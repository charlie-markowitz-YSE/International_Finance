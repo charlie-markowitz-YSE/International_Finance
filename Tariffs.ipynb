{
  "nbformat": 4,
  "nbformat_minor": 0,
  "metadata": {
    "colab": {
      "name": "Tariffs",
      "provenance": [],
      "collapsed_sections": [],
      "authorship_tag": "ABX9TyP2bcHJL7/ZF1yEE0pYQdQc",
      "include_colab_link": true
    },
    "kernelspec": {
      "name": "python3",
      "display_name": "Python 3"
    },
    "language_info": {
      "name": "python"
    }
  },
  "cells": [
    {
      "cell_type": "markdown",
      "metadata": {
        "id": "view-in-github",
        "colab_type": "text"
      },
      "source": [
        "<a href=\"https://colab.research.google.com/github/charlie-markowitz-YSE/International_Finance/blob/main/Tariffs.ipynb\" target=\"_parent\"><img src=\"https://colab.research.google.com/assets/colab-badge.svg\" alt=\"Open In Colab\"/></a>"
      ]
    },
    {
      "cell_type": "code",
      "metadata": {
        "id": "0wtFDmwVDpmr"
      },
      "source": [
        "#importing packages \n",
        "\n",
        "from plotnine import *\n",
        "import plotnine\n",
        "import pandas as pd\n",
        "import numpy as np\n",
        "from mizani.formatters import scientific_format, percent_format, currency_format\n",
        "import statsmodels.api as sm\n",
        "from sklearn.linear_model import LogisticRegression, LogisticRegressionCV\n",
        "from sklearn.model_selection import train_test_split\n",
        "from sklearn import metrics\n",
        "import matplotlib.pyplot as plt\n",
        "import seaborn as sns\n",
        "import scipy.stats as stats\n",
        "import plotly.express as px"
      ],
      "execution_count": 1,
      "outputs": []
    },
    {
      "cell_type": "code",
      "metadata": {
        "id": "lSyOKZUeDwNW"
      },
      "source": [
        "#reading in my data\n",
        "gni = pd.read_csv('https://raw.githubusercontent.com/charlie-markowitz-YSE/International_Finance2/main/GNI.csv')\n",
        "region = pd.read_csv('https://raw.githubusercontent.com/charlie-markowitz-YSE/International_Finance2/main/Region.csv')\n",
        "tariff_rate = pd.read_csv('https://raw.githubusercontent.com/charlie-markowitz-YSE/International_Finance2/main/TariffRate.csv')"
      ],
      "execution_count": 2,
      "outputs": []
    },
    {
      "cell_type": "code",
      "metadata": {
        "colab": {
          "base_uri": "https://localhost:8080/",
          "height": 204
        },
        "id": "5qdk1_HkGZbq",
        "outputId": "0a0e21bf-b115-4e79-a703-cb0e1964d663"
      },
      "source": [
        "gni.head()"
      ],
      "execution_count": 3,
      "outputs": [
        {
          "output_type": "execute_result",
          "data": {
            "text/html": [
              "<div>\n",
              "<style scoped>\n",
              "    .dataframe tbody tr th:only-of-type {\n",
              "        vertical-align: middle;\n",
              "    }\n",
              "\n",
              "    .dataframe tbody tr th {\n",
              "        vertical-align: top;\n",
              "    }\n",
              "\n",
              "    .dataframe thead th {\n",
              "        text-align: right;\n",
              "    }\n",
              "</style>\n",
              "<table border=\"1\" class=\"dataframe\">\n",
              "  <thead>\n",
              "    <tr style=\"text-align: right;\">\n",
              "      <th></th>\n",
              "      <th>Country_Name</th>\n",
              "      <th>Country_Code</th>\n",
              "      <th>GNI</th>\n",
              "    </tr>\n",
              "  </thead>\n",
              "  <tbody>\n",
              "    <tr>\n",
              "      <th>0</th>\n",
              "      <td>Aruba</td>\n",
              "      <td>ABW</td>\n",
              "      <td>NaN</td>\n",
              "    </tr>\n",
              "    <tr>\n",
              "      <th>1</th>\n",
              "      <td>Africa Eastern and Southern</td>\n",
              "      <td>AFE</td>\n",
              "      <td>1364.796122</td>\n",
              "    </tr>\n",
              "    <tr>\n",
              "      <th>2</th>\n",
              "      <td>Afghanistan</td>\n",
              "      <td>AFG</td>\n",
              "      <td>500.000000</td>\n",
              "    </tr>\n",
              "    <tr>\n",
              "      <th>3</th>\n",
              "      <td>Africa Western and Central</td>\n",
              "      <td>AFW</td>\n",
              "      <td>1646.334568</td>\n",
              "    </tr>\n",
              "    <tr>\n",
              "      <th>4</th>\n",
              "      <td>Angola</td>\n",
              "      <td>AGO</td>\n",
              "      <td>2230.000000</td>\n",
              "    </tr>\n",
              "  </tbody>\n",
              "</table>\n",
              "</div>"
            ],
            "text/plain": [
              "                  Country_Name Country_Code          GNI\n",
              "0                        Aruba          ABW          NaN\n",
              "1  Africa Eastern and Southern          AFE  1364.796122\n",
              "2                  Afghanistan          AFG   500.000000\n",
              "3   Africa Western and Central          AFW  1646.334568\n",
              "4                       Angola          AGO  2230.000000"
            ]
          },
          "metadata": {},
          "execution_count": 3
        }
      ]
    },
    {
      "cell_type": "code",
      "metadata": {
        "colab": {
          "base_uri": "https://localhost:8080/",
          "height": 204
        },
        "id": "87ghSYF7GdMY",
        "outputId": "f519ebc8-72b2-47c0-f933-9788e3dc9d80"
      },
      "source": [
        "region.head()"
      ],
      "execution_count": 4,
      "outputs": [
        {
          "output_type": "execute_result",
          "data": {
            "text/html": [
              "<div>\n",
              "<style scoped>\n",
              "    .dataframe tbody tr th:only-of-type {\n",
              "        vertical-align: middle;\n",
              "    }\n",
              "\n",
              "    .dataframe tbody tr th {\n",
              "        vertical-align: top;\n",
              "    }\n",
              "\n",
              "    .dataframe thead th {\n",
              "        text-align: right;\n",
              "    }\n",
              "</style>\n",
              "<table border=\"1\" class=\"dataframe\">\n",
              "  <thead>\n",
              "    <tr style=\"text-align: right;\">\n",
              "      <th></th>\n",
              "      <th>Economy</th>\n",
              "      <th>Code</th>\n",
              "      <th>Region</th>\n",
              "    </tr>\n",
              "  </thead>\n",
              "  <tbody>\n",
              "    <tr>\n",
              "      <th>0</th>\n",
              "      <td>Aruba</td>\n",
              "      <td>ABW</td>\n",
              "      <td>Latin America &amp; Caribbean</td>\n",
              "    </tr>\n",
              "    <tr>\n",
              "      <th>1</th>\n",
              "      <td>Afghanistan</td>\n",
              "      <td>AFG</td>\n",
              "      <td>South Asia</td>\n",
              "    </tr>\n",
              "    <tr>\n",
              "      <th>2</th>\n",
              "      <td>Angola</td>\n",
              "      <td>AGO</td>\n",
              "      <td>Sub-Saharan Africa</td>\n",
              "    </tr>\n",
              "    <tr>\n",
              "      <th>3</th>\n",
              "      <td>Albania</td>\n",
              "      <td>ALB</td>\n",
              "      <td>Europe &amp; Central Asia</td>\n",
              "    </tr>\n",
              "    <tr>\n",
              "      <th>4</th>\n",
              "      <td>Andorra</td>\n",
              "      <td>AND</td>\n",
              "      <td>Europe &amp; Central Asia</td>\n",
              "    </tr>\n",
              "  </tbody>\n",
              "</table>\n",
              "</div>"
            ],
            "text/plain": [
              "       Economy Code                     Region\n",
              "0        Aruba  ABW  Latin America & Caribbean\n",
              "1  Afghanistan  AFG                 South Asia\n",
              "2       Angola  AGO         Sub-Saharan Africa\n",
              "3      Albania  ALB      Europe & Central Asia\n",
              "4      Andorra  AND      Europe & Central Asia"
            ]
          },
          "metadata": {},
          "execution_count": 4
        }
      ]
    },
    {
      "cell_type": "code",
      "metadata": {
        "colab": {
          "base_uri": "https://localhost:8080/",
          "height": 204
        },
        "id": "Pu7uYYWcGfY5",
        "outputId": "c85918bf-315f-4216-f83a-6b3d6b8c8cf4"
      },
      "source": [
        "tariff_rate.head()"
      ],
      "execution_count": 5,
      "outputs": [
        {
          "output_type": "execute_result",
          "data": {
            "text/html": [
              "<div>\n",
              "<style scoped>\n",
              "    .dataframe tbody tr th:only-of-type {\n",
              "        vertical-align: middle;\n",
              "    }\n",
              "\n",
              "    .dataframe tbody tr th {\n",
              "        vertical-align: top;\n",
              "    }\n",
              "\n",
              "    .dataframe thead th {\n",
              "        text-align: right;\n",
              "    }\n",
              "</style>\n",
              "<table border=\"1\" class=\"dataframe\">\n",
              "  <thead>\n",
              "    <tr style=\"text-align: right;\">\n",
              "      <th></th>\n",
              "      <th>Country_Name</th>\n",
              "      <th>Weighted_mean_tariff</th>\n",
              "    </tr>\n",
              "  </thead>\n",
              "  <tbody>\n",
              "    <tr>\n",
              "      <th>0</th>\n",
              "      <td>Afghanistan</td>\n",
              "      <td>8.4</td>\n",
              "    </tr>\n",
              "    <tr>\n",
              "      <th>1</th>\n",
              "      <td>Albania</td>\n",
              "      <td>1.5</td>\n",
              "    </tr>\n",
              "    <tr>\n",
              "      <th>2</th>\n",
              "      <td>Algeria</td>\n",
              "      <td>12.5</td>\n",
              "    </tr>\n",
              "    <tr>\n",
              "      <th>3</th>\n",
              "      <td>American Samoa</td>\n",
              "      <td>..</td>\n",
              "    </tr>\n",
              "    <tr>\n",
              "      <th>4</th>\n",
              "      <td>Andorra</td>\n",
              "      <td>..</td>\n",
              "    </tr>\n",
              "  </tbody>\n",
              "</table>\n",
              "</div>"
            ],
            "text/plain": [
              "     Country_Name Weighted_mean_tariff\n",
              "0     Afghanistan                  8.4\n",
              "1         Albania                  1.5\n",
              "2         Algeria                 12.5\n",
              "3  American Samoa                   ..\n",
              "4         Andorra                   .."
            ]
          },
          "metadata": {},
          "execution_count": 5
        }
      ]
    },
    {
      "cell_type": "code",
      "metadata": {
        "id": "96WKNQLGGtcJ"
      },
      "source": [
        "tariff_rate.replace(\"..\", np.nan, inplace = True)\n",
        "region.replace(\"..\", np.nan, inplace = True)\n",
        "gni.replace(\"..\", np.nan, inplace = True)"
      ],
      "execution_count": 6,
      "outputs": []
    },
    {
      "cell_type": "code",
      "metadata": {
        "id": "wzpv1T7AH0lY"
      },
      "source": [
        "tariff_rate = tariff_rate.dropna()\n",
        "region = region.dropna()\n",
        "gni = gni.dropna()"
      ],
      "execution_count": 7,
      "outputs": []
    },
    {
      "cell_type": "code",
      "metadata": {
        "id": "Bq2xWqEJIhEs"
      },
      "source": [
        "df_merge = tariff_rate.merge(region, how = 'left', left_on = 'Country_Name', right_on='Economy')"
      ],
      "execution_count": 8,
      "outputs": []
    },
    {
      "cell_type": "code",
      "metadata": {
        "colab": {
          "base_uri": "https://localhost:8080/",
          "height": 204
        },
        "id": "IzcEnAoSJau3",
        "outputId": "09fe33c3-f45e-412e-c5bd-3a9706fdd91b"
      },
      "source": [
        "df_merge.head()"
      ],
      "execution_count": 9,
      "outputs": [
        {
          "output_type": "execute_result",
          "data": {
            "text/html": [
              "<div>\n",
              "<style scoped>\n",
              "    .dataframe tbody tr th:only-of-type {\n",
              "        vertical-align: middle;\n",
              "    }\n",
              "\n",
              "    .dataframe tbody tr th {\n",
              "        vertical-align: top;\n",
              "    }\n",
              "\n",
              "    .dataframe thead th {\n",
              "        text-align: right;\n",
              "    }\n",
              "</style>\n",
              "<table border=\"1\" class=\"dataframe\">\n",
              "  <thead>\n",
              "    <tr style=\"text-align: right;\">\n",
              "      <th></th>\n",
              "      <th>Country_Name</th>\n",
              "      <th>Weighted_mean_tariff</th>\n",
              "      <th>Economy</th>\n",
              "      <th>Code</th>\n",
              "      <th>Region</th>\n",
              "    </tr>\n",
              "  </thead>\n",
              "  <tbody>\n",
              "    <tr>\n",
              "      <th>0</th>\n",
              "      <td>Afghanistan</td>\n",
              "      <td>8.4</td>\n",
              "      <td>Afghanistan</td>\n",
              "      <td>AFG</td>\n",
              "      <td>South Asia</td>\n",
              "    </tr>\n",
              "    <tr>\n",
              "      <th>1</th>\n",
              "      <td>Albania</td>\n",
              "      <td>1.5</td>\n",
              "      <td>Albania</td>\n",
              "      <td>ALB</td>\n",
              "      <td>Europe &amp; Central Asia</td>\n",
              "    </tr>\n",
              "    <tr>\n",
              "      <th>2</th>\n",
              "      <td>Algeria</td>\n",
              "      <td>12.5</td>\n",
              "      <td>Algeria</td>\n",
              "      <td>DZA</td>\n",
              "      <td>Middle East &amp; North Africa</td>\n",
              "    </tr>\n",
              "    <tr>\n",
              "      <th>3</th>\n",
              "      <td>Angola</td>\n",
              "      <td>8.7</td>\n",
              "      <td>Angola</td>\n",
              "      <td>AGO</td>\n",
              "      <td>Sub-Saharan Africa</td>\n",
              "    </tr>\n",
              "    <tr>\n",
              "      <th>4</th>\n",
              "      <td>Antigua and Barbuda</td>\n",
              "      <td>12.4</td>\n",
              "      <td>Antigua and Barbuda</td>\n",
              "      <td>ATG</td>\n",
              "      <td>Latin America &amp; Caribbean</td>\n",
              "    </tr>\n",
              "  </tbody>\n",
              "</table>\n",
              "</div>"
            ],
            "text/plain": [
              "          Country_Name Weighted_mean_tariff  ... Code                      Region\n",
              "0          Afghanistan                  8.4  ...  AFG                  South Asia\n",
              "1              Albania                  1.5  ...  ALB       Europe & Central Asia\n",
              "2              Algeria                 12.5  ...  DZA  Middle East & North Africa\n",
              "3               Angola                  8.7  ...  AGO          Sub-Saharan Africa\n",
              "4  Antigua and Barbuda                 12.4  ...  ATG   Latin America & Caribbean\n",
              "\n",
              "[5 rows x 5 columns]"
            ]
          },
          "metadata": {},
          "execution_count": 9
        }
      ]
    },
    {
      "cell_type": "code",
      "metadata": {
        "id": "zw843kJRJjeN"
      },
      "source": [
        "df = df_merge.merge(gni, how = 'left', on = 'Country_Name')"
      ],
      "execution_count": 10,
      "outputs": []
    },
    {
      "cell_type": "code",
      "metadata": {
        "id": "SqMiSl-uJ3e9"
      },
      "source": [
        "df = df.dropna()"
      ],
      "execution_count": 11,
      "outputs": []
    },
    {
      "cell_type": "code",
      "metadata": {
        "colab": {
          "base_uri": "https://localhost:8080/",
          "height": 419
        },
        "id": "tkDO3DbpKDrb",
        "outputId": "50e03463-7078-4c7e-8499-2d9d3c3aa3f4"
      },
      "source": [
        "df"
      ],
      "execution_count": 12,
      "outputs": [
        {
          "output_type": "execute_result",
          "data": {
            "text/html": [
              "<div>\n",
              "<style scoped>\n",
              "    .dataframe tbody tr th:only-of-type {\n",
              "        vertical-align: middle;\n",
              "    }\n",
              "\n",
              "    .dataframe tbody tr th {\n",
              "        vertical-align: top;\n",
              "    }\n",
              "\n",
              "    .dataframe thead th {\n",
              "        text-align: right;\n",
              "    }\n",
              "</style>\n",
              "<table border=\"1\" class=\"dataframe\">\n",
              "  <thead>\n",
              "    <tr style=\"text-align: right;\">\n",
              "      <th></th>\n",
              "      <th>Country_Name</th>\n",
              "      <th>Weighted_mean_tariff</th>\n",
              "      <th>Economy</th>\n",
              "      <th>Code</th>\n",
              "      <th>Region</th>\n",
              "      <th>Country_Code</th>\n",
              "      <th>GNI</th>\n",
              "    </tr>\n",
              "  </thead>\n",
              "  <tbody>\n",
              "    <tr>\n",
              "      <th>0</th>\n",
              "      <td>Afghanistan</td>\n",
              "      <td>8.4</td>\n",
              "      <td>Afghanistan</td>\n",
              "      <td>AFG</td>\n",
              "      <td>South Asia</td>\n",
              "      <td>AFG</td>\n",
              "      <td>500.0</td>\n",
              "    </tr>\n",
              "    <tr>\n",
              "      <th>1</th>\n",
              "      <td>Albania</td>\n",
              "      <td>1.5</td>\n",
              "      <td>Albania</td>\n",
              "      <td>ALB</td>\n",
              "      <td>Europe &amp; Central Asia</td>\n",
              "      <td>ALB</td>\n",
              "      <td>5210.0</td>\n",
              "    </tr>\n",
              "    <tr>\n",
              "      <th>2</th>\n",
              "      <td>Algeria</td>\n",
              "      <td>12.5</td>\n",
              "      <td>Algeria</td>\n",
              "      <td>DZA</td>\n",
              "      <td>Middle East &amp; North Africa</td>\n",
              "      <td>DZA</td>\n",
              "      <td>3550.0</td>\n",
              "    </tr>\n",
              "    <tr>\n",
              "      <th>3</th>\n",
              "      <td>Angola</td>\n",
              "      <td>8.7</td>\n",
              "      <td>Angola</td>\n",
              "      <td>AGO</td>\n",
              "      <td>Sub-Saharan Africa</td>\n",
              "      <td>AGO</td>\n",
              "      <td>2230.0</td>\n",
              "    </tr>\n",
              "    <tr>\n",
              "      <th>4</th>\n",
              "      <td>Antigua and Barbuda</td>\n",
              "      <td>12.4</td>\n",
              "      <td>Antigua and Barbuda</td>\n",
              "      <td>ATG</td>\n",
              "      <td>Latin America &amp; Caribbean</td>\n",
              "      <td>ATG</td>\n",
              "      <td>14250.0</td>\n",
              "    </tr>\n",
              "    <tr>\n",
              "      <th>...</th>\n",
              "      <td>...</td>\n",
              "      <td>...</td>\n",
              "      <td>...</td>\n",
              "      <td>...</td>\n",
              "      <td>...</td>\n",
              "      <td>...</td>\n",
              "      <td>...</td>\n",
              "    </tr>\n",
              "    <tr>\n",
              "      <th>179</th>\n",
              "      <td>Vanuatu</td>\n",
              "      <td>10.1</td>\n",
              "      <td>Vanuatu</td>\n",
              "      <td>VUT</td>\n",
              "      <td>East Asia &amp; Pacific</td>\n",
              "      <td>VUT</td>\n",
              "      <td>2780.0</td>\n",
              "    </tr>\n",
              "    <tr>\n",
              "      <th>181</th>\n",
              "      <td>Vietnam</td>\n",
              "      <td>5.7</td>\n",
              "      <td>Vietnam</td>\n",
              "      <td>VNM</td>\n",
              "      <td>East Asia &amp; Pacific</td>\n",
              "      <td>VNM</td>\n",
              "      <td>2660.0</td>\n",
              "    </tr>\n",
              "    <tr>\n",
              "      <th>182</th>\n",
              "      <td>West Bank and Gaza</td>\n",
              "      <td>1.9</td>\n",
              "      <td>West Bank and Gaza</td>\n",
              "      <td>PSE</td>\n",
              "      <td>Middle East &amp; North Africa</td>\n",
              "      <td>PSE</td>\n",
              "      <td>3710.0</td>\n",
              "    </tr>\n",
              "    <tr>\n",
              "      <th>184</th>\n",
              "      <td>Zambia</td>\n",
              "      <td>10.8</td>\n",
              "      <td>Zambia</td>\n",
              "      <td>ZMB</td>\n",
              "      <td>Sub-Saharan Africa</td>\n",
              "      <td>ZMB</td>\n",
              "      <td>1190.0</td>\n",
              "    </tr>\n",
              "    <tr>\n",
              "      <th>185</th>\n",
              "      <td>Zimbabwe</td>\n",
              "      <td>9.6</td>\n",
              "      <td>Zimbabwe</td>\n",
              "      <td>ZWE</td>\n",
              "      <td>Sub-Saharan Africa</td>\n",
              "      <td>ZWE</td>\n",
              "      <td>1090.0</td>\n",
              "    </tr>\n",
              "  </tbody>\n",
              "</table>\n",
              "<p>146 rows × 7 columns</p>\n",
              "</div>"
            ],
            "text/plain": [
              "            Country_Name Weighted_mean_tariff  ... Country_Code      GNI\n",
              "0            Afghanistan                  8.4  ...          AFG    500.0\n",
              "1                Albania                  1.5  ...          ALB   5210.0\n",
              "2                Algeria                 12.5  ...          DZA   3550.0\n",
              "3                 Angola                  8.7  ...          AGO   2230.0\n",
              "4    Antigua and Barbuda                 12.4  ...          ATG  14250.0\n",
              "..                   ...                  ...  ...          ...      ...\n",
              "179              Vanuatu                 10.1  ...          VUT   2780.0\n",
              "181              Vietnam                  5.7  ...          VNM   2660.0\n",
              "182   West Bank and Gaza                  1.9  ...          PSE   3710.0\n",
              "184               Zambia                 10.8  ...          ZMB   1190.0\n",
              "185             Zimbabwe                  9.6  ...          ZWE   1090.0\n",
              "\n",
              "[146 rows x 7 columns]"
            ]
          },
          "metadata": {},
          "execution_count": 12
        }
      ]
    },
    {
      "cell_type": "code",
      "metadata": {
        "id": "c5wauNwvLsF1"
      },
      "source": [
        "df['GNI'] = df.GNI.astype('int64')"
      ],
      "execution_count": 13,
      "outputs": []
    },
    {
      "cell_type": "code",
      "metadata": {
        "id": "d6hAKe3CL4V_"
      },
      "source": [
        "df['Weighted_mean_tariff'] =df.Weighted_mean_tariff.astype('float')"
      ],
      "execution_count": 14,
      "outputs": []
    },
    {
      "cell_type": "code",
      "metadata": {
        "colab": {
          "base_uri": "https://localhost:8080/"
        },
        "id": "jEqsXu3TOdkU",
        "outputId": "d0b044da-f5b9-40e2-f8a4-9f9a93580b56"
      },
      "source": [
        "pd.set_option('display.max_rows', 150)\n",
        "print(df)"
      ],
      "execution_count": 24,
      "outputs": [
        {
          "output_type": "stream",
          "name": "stdout",
          "text": [
            "                       Country_Name  Weighted_mean_tariff  ... Country_Code    GNI\n",
            "0                       Afghanistan                   8.4  ...          AFG    500\n",
            "1                           Albania                   1.5  ...          ALB   5210\n",
            "2                           Algeria                  12.5  ...          DZA   3550\n",
            "3                            Angola                   8.7  ...          AGO   2230\n",
            "4               Antigua and Barbuda                  12.4  ...          ATG  14250\n",
            "5                         Argentina                  12.2  ...          ARG   8930\n",
            "6                           Armenia                   6.3  ...          ARM   4220\n",
            "8                         Australia                   2.0  ...          AUS  53730\n",
            "10                       Azerbaijan                  15.3  ...          AZE   4450\n",
            "11                      Bahamas The                  23.7  ...          BHS  27780\n",
            "13                       Bangladesh                  12.2  ...          BGD   2010\n",
            "14                         Barbados                  12.6  ...          BRB  14460\n",
            "15                          Belarus                   7.9  ...          BLR   6330\n",
            "17                           Belize                  10.9  ...          BLZ   3970\n",
            "18                            Benin                  11.7  ...          BEN   1280\n",
            "20                           Bhutan                   8.1  ...          BTN   2860\n",
            "21                          Bolivia                  10.0  ...          BOL   3200\n",
            "22           Bosnia and Herzegovina                   5.3  ...          BIH   6090\n",
            "23                         Botswana                   8.2  ...          BWA   6640\n",
            "24                           Brazil                  13.4  ...          BRA   7850\n",
            "26                         Bulgaria                   2.6  ...          BGR   9540\n",
            "27                     Burkina Faso                  11.4  ...          BFA    790\n",
            "28                          Burundi                  11.8  ...          BDI    270\n",
            "29                       Cabo Verde                  14.5  ...          CPV   3060\n",
            "30                         Cambodia                  12.5  ...          KHM   1490\n",
            "31                         Cameroon                  18.6  ...          CMR   1500\n",
            "32                           Canada                   2.1  ...          CAN  43440\n",
            "34         Central African Republic                  16.0  ...          CAF    510\n",
            "35                             Chad                  18.2  ...          TCD    660\n",
            "36                            Chile                   1.0  ...          CHL  13470\n",
            "37                            China                   5.4  ...          CHN  10610\n",
            "38              Hong Kong SAR China                   0.0  ...          HKG  48630\n",
            "40                         Colombia                   2.9  ...          COL   5780\n",
            "41                          Comoros                  12.5  ...          COM   1450\n",
            "42                  Congo Dem. Rep.                  12.0  ...          COD    550\n",
            "43                       Congo Rep.                  12.9  ...          COG   1830\n",
            "44                       Costa Rica                   3.2  ...          CRI  11460\n",
            "46                          Croatia                   2.6  ...          HRV  14190\n",
            "49                          Denmark                   2.6  ...          DNK  62720\n",
            "50                         Djibouti                  18.9  ...          DJI   3320\n",
            "51                         Dominica                  10.4  ...          DMA   6870\n",
            "52               Dominican Republic                   6.3  ...          DOM   7260\n",
            "53                          Ecuador                   9.8  ...          ECU   5530\n",
            "54                  Egypt Arab Rep.                  14.4  ...          EGY   3000\n",
            "55                      El Salvador                   3.4  ...          SLV   3650\n",
            "56                Equatorial Guinea                  18.7  ...          GNQ   5810\n",
            "59                         Ethiopia                  17.8  ...          ETH    890\n",
            "60                             Fiji                  20.8  ...          FJI   4720\n",
            "61                          Finland                   2.6  ...          FIN  49620\n",
            "64                            Gabon                  18.7  ...          GAB   6970\n",
            "65                       Gambia The                  14.3  ...          GMB    750\n",
            "66                          Georgia                   1.2  ...          GEO   4290\n",
            "67                          Germany                   2.6  ...          DEU  46980\n",
            "68                            Ghana                  12.4  ...          GHA   2230\n",
            "70                          Grenada                  10.6  ...          GRD   8740\n",
            "71                        Guatemala                   3.3  ...          GTM   4490\n",
            "72                           Guinea                  12.7  ...          GIN   1020\n",
            "73                    Guinea-Bissau                  12.7  ...          GNB    760\n",
            "74                           Guyana                   9.5  ...          GUY   6600\n",
            "75                            Haiti                   6.3  ...          HTI   1250\n",
            "76                         Honduras                   4.0  ...          HND   2200\n",
            "79                            India                  10.2  ...          IND   1900\n",
            "80                        Indonesia                   6.7  ...          IDN   3870\n",
            "81                Iran Islamic Rep.                  16.2  ...          IRN   2870\n",
            "84                            Italy                   2.6  ...          ITA  32200\n",
            "85                          Jamaica                  10.3  ...          JAM   4620\n",
            "87                           Jordan                   4.8  ...          JOR   4310\n",
            "88                       Kazakhstan                   5.4  ...          KAZ   8680\n",
            "89                            Kenya                  13.1  ...          KEN   1760\n",
            "90                       Korea Rep.                   5.2  ...          KOR  32860\n",
            "92                  Kyrgyz Republic                   5.6  ...          KGZ   1160\n",
            "93                          Lao PDR                   2.7  ...          LAO   2480\n",
            "95                          Lebanon                   5.0  ...          LBN   5510\n",
            "96                          Lesotho                   7.5  ...          LSO   1100\n",
            "97                          Liberia                   9.6  ...          LBR    530\n",
            "98                            Libya                   0.0  ...          LBY   4850\n",
            "101                 North Macedonia                   3.4  ...          MKD   5720\n",
            "102                      Madagascar                   8.9  ...          MDG    480\n",
            "103                          Malawi                   7.1  ...          MWI    580\n",
            "104                        Malaysia                   6.2  ...          MYS  10580\n",
            "105                        Maldives                  13.3  ...          MDV   6830\n",
            "106                            Mali                  11.8  ...          MLI    830\n",
            "107                           Malta                   2.6  ...          MLT  25370\n",
            "108                      Mauritania                  12.6  ...          MRT   1640\n",
            "109                       Mauritius                   1.3  ...          MUS  10230\n",
            "110                          Mexico                   3.3  ...          MEX   8480\n",
            "111                         Moldova                   5.3  ...          MDA   4570\n",
            "112                        Mongolia                   5.0  ...          MNG   3670\n",
            "113                      Montenegro                   1.5  ...          MNE   7900\n",
            "114                         Morocco                   4.3  ...          MAR   2980\n",
            "115                      Mozambique                   9.0  ...          MOZ    460\n",
            "116                         Myanmar                   3.7  ...          MMR   1260\n",
            "117                         Namibia                   7.3  ...          NAM   4520\n",
            "118                           Nepal                  20.2  ...          NPL   1190\n",
            "121                       Nicaragua                   3.2  ...          NIC   1850\n",
            "122                           Niger                  12.2  ...          NER    540\n",
            "123                         Nigeria                  11.5  ...          NGA   2000\n",
            "124                          Norway                   3.2  ...          NOR  78250\n",
            "126                        Pakistan                  12.6  ...          PAK   1280\n",
            "128                          Panama                   7.4  ...          PAN  11880\n",
            "129                Papua New Guinea                  11.3  ...          PNG   2660\n",
            "130                        Paraguay                   8.1  ...          PRY   5140\n",
            "131                            Peru                   1.3  ...          PER   6010\n",
            "132                     Philippines                   3.5  ...          PHL   3430\n",
            "133                          Poland                   2.6  ...          POL  15270\n",
            "134                        Portugal                   2.6  ...          PRT  22000\n",
            "135                           Qatar                   4.1  ...          QAT  56210\n",
            "136                         Romania                   2.6  ...          ROU  12570\n",
            "137              Russian Federation                   6.9  ...          RUS  10690\n",
            "138                          Rwanda                  11.6  ...          RWA    780\n",
            "139                           Samoa                  12.9  ...          WSM   4070\n",
            "141                    Saudi Arabia                   4.5  ...          SAU  21930\n",
            "142                         Senegal                  12.8  ...          SEN   1430\n",
            "143                          Serbia                   2.8  ...          SRB   7400\n",
            "144                      Seychelles                   8.9  ...          SYC  12720\n",
            "145                    Sierra Leone                  12.9  ...          SLE    490\n",
            "146                       Singapore                   1.2  ...          SGP  54920\n",
            "147                 Slovak Republic                   2.6  ...          SVK  18700\n",
            "149                 Solomon Islands                  16.9  ...          SLB   2300\n",
            "150                    South Africa                   8.4  ...          ZAF   5410\n",
            "152                       Sri Lanka                  16.4  ...          LKA   3720\n",
            "153             St. Kitts and Nevis                  14.3  ...          KNA  17400\n",
            "154                       St. Lucia                   8.7  ...          LCA   8790\n",
            "155  St. Vincent and the Grenadines                   9.0  ...          VCT   7340\n",
            "156                           Sudan                  12.6  ...          SDN    650\n",
            "157                        Suriname                  10.8  ...          SUR   5510\n",
            "158                        Eswatini                   8.5  ...          SWZ   3580\n",
            "159                          Sweden                   2.6  ...          SWE  53800\n",
            "162                      Tajikistan                   5.1  ...          TJK   1060\n",
            "163                        Tanzania                  12.2  ...          TZA   1080\n",
            "164                        Thailand                   8.0  ...          THA   7050\n",
            "165                     Timor-Leste                   2.5  ...          TLS   1830\n",
            "166                            Togo                  11.8  ...          TGO    920\n",
            "168             Trinidad and Tobago                  11.4  ...          TTO  15410\n",
            "169                         Tunisia                  10.2  ...          TUN   3100\n",
            "170                          Turkey                   3.7  ...          TUR   9050\n",
            "171                          Tuvalu                   8.9  ...          TUV   5820\n",
            "172                          Uganda                  12.4  ...          UGA    800\n",
            "173                         Ukraine                   4.3  ...          UKR   3540\n",
            "177                         Uruguay                   9.9  ...          URY  15830\n",
            "178                      Uzbekistan                  13.7  ...          UZB   1670\n",
            "179                         Vanuatu                  10.1  ...          VUT   2780\n",
            "181                         Vietnam                   5.7  ...          VNM   2660\n",
            "182              West Bank and Gaza                   1.9  ...          PSE   3710\n",
            "184                          Zambia                  10.8  ...          ZMB   1190\n",
            "185                        Zimbabwe                   9.6  ...          ZWE   1090\n",
            "\n",
            "[146 rows x 7 columns]\n"
          ]
        }
      ]
    },
    {
      "cell_type": "code",
      "metadata": {
        "id": "HRb3C1A5yDEr"
      },
      "source": [
        ""
      ],
      "execution_count": 21,
      "outputs": []
    },
    {
      "cell_type": "code",
      "metadata": {
        "colab": {
          "base_uri": "https://localhost:8080/",
          "height": 80
        },
        "id": "JstrvPvNNeec",
        "outputId": "bc855d36-0dae-414d-ff67-5d9e21b539ea"
      },
      "source": [
        "usa= {'Region': ['United States'],\n",
        "         'Weighted_mean_tariff': [8.7],\n",
        "      'GNI': [65910]}\n",
        "usa_df = pd.DataFrame(data=usa)\n",
        "usa_df"
      ],
      "execution_count": 16,
      "outputs": [
        {
          "output_type": "execute_result",
          "data": {
            "text/html": [
              "<div>\n",
              "<style scoped>\n",
              "    .dataframe tbody tr th:only-of-type {\n",
              "        vertical-align: middle;\n",
              "    }\n",
              "\n",
              "    .dataframe tbody tr th {\n",
              "        vertical-align: top;\n",
              "    }\n",
              "\n",
              "    .dataframe thead th {\n",
              "        text-align: right;\n",
              "    }\n",
              "</style>\n",
              "<table border=\"1\" class=\"dataframe\">\n",
              "  <thead>\n",
              "    <tr style=\"text-align: right;\">\n",
              "      <th></th>\n",
              "      <th>Region</th>\n",
              "      <th>Weighted_mean_tariff</th>\n",
              "      <th>GNI</th>\n",
              "    </tr>\n",
              "  </thead>\n",
              "  <tbody>\n",
              "    <tr>\n",
              "      <th>0</th>\n",
              "      <td>United States</td>\n",
              "      <td>8.7</td>\n",
              "      <td>65910</td>\n",
              "    </tr>\n",
              "  </tbody>\n",
              "</table>\n",
              "</div>"
            ],
            "text/plain": [
              "          Region  Weighted_mean_tariff    GNI\n",
              "0  United States                   8.7  65910"
            ]
          },
          "metadata": {},
          "execution_count": 16
        }
      ]
    },
    {
      "cell_type": "code",
      "metadata": {
        "colab": {
          "base_uri": "https://localhost:8080/",
          "height": 600
        },
        "id": "q-eNYvSdKZS-",
        "outputId": "ba0014ce-8779-4a92-dedf-6079c68be456"
      },
      "source": [
        "\n",
        "(\n",
        " ggplot(df, aes(x='GNI', y='Weighted_mean_tariff', color='Region'))\n",
        "+ geom_point(alpha = 5/10)\n",
        "+ geom_point(usa_df, aes(x = 'GNI', y = 'Weighted_mean_tariff'))\n",
        " + ylab(\"Average Tariff Rate\")\n",
        " + xlab(\"GNI\") \n",
        " + ggtitle(\"\")\n",
        " + theme_classic()\n",
        " + theme(axis_line=element_line(color=\"gray\"),\n",
        "      axis_ticks=element_line(color = \"gray\")) \n",
        ")\n"
      ],
      "execution_count": 22,
      "outputs": [
        {
          "output_type": "stream",
          "name": "stderr",
          "text": [
            "/usr/local/lib/python3.7/dist-packages/plotnine/utils.py:1246: FutureWarning:\n",
            "\n",
            "is_categorical is deprecated and will be removed in a future version.  Use is_categorical_dtype instead\n",
            "\n",
            "/usr/local/lib/python3.7/dist-packages/plotnine/guides/guides.py:200: PlotnineWarning:\n",
            "\n",
            "Cannot generate legend for the 'fill' aesthetic. Make sure you have mapped a variable to it\n",
            "\n"
          ]
        },
        {
          "output_type": "display_data",
          "data": {
            "image/png": "[encoded data removed]",
            "text/plain": [
              "<Figure size 640x480 with 1 Axes>"
            ]
          },
          "metadata": {}
        },
        {
          "output_type": "execute_result",
          "data": {
            "text/plain": [
              "<ggplot: (8768169401529)>"
            ]
          },
          "metadata": {},
          "execution_count": 22
        }
      ]
    }
  ]
}